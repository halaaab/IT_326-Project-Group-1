{
  "nbformat": 4,
  "nbformat_minor": 0,
  "metadata": {
    "colab": {
      "provenance": [],
      "include_colab_link": true
    },
    "kernelspec": {
      "name": "python3",
      "display_name": "Python 3"
    },
    "language_info": {
      "name": "python"
    }
  },
  "cells": [
    {
      "cell_type": "markdown",
      "metadata": {
        "id": "view-in-github",
        "colab_type": "text"
      },
      "source": [
        "<a href=\"https://colab.research.google.com/github/halaaab/IT_326-Project-Group-1/blob/main/Phase1.ipynb\" target=\"_parent\"><img src=\"https://colab.research.google.com/assets/colab-badge.svg\" alt=\"Open In Colab\"/></a>"
      ]
    },
    {
      "cell_type": "code",
      "execution_count": 14,
      "metadata": {
        "id": "wbSNreoN2UTf",
        "colab": {
          "base_uri": "https://localhost:8080/"
        },
        "outputId": "fa06f5d9-cefc-4c25-c1a4-0e0a1f8b8532"
      },
      "outputs": [
        {
          "output_type": "stream",
          "name": "stdout",
          "text": [
            "Sample of database:\n",
            "     842302  M  17.99  10.38   122.8    1001   0.1184   0.2776  0.3001  \\\n",
            "0    842517  M  20.57  17.77  132.90  1326.0  0.08474  0.07864  0.0869   \n",
            "1  84300903  M  19.69  21.25  130.00  1203.0  0.10960  0.15990  0.1974   \n",
            "2  84348301  M  11.42  20.38   77.58   386.1  0.14250  0.28390  0.2414   \n",
            "3  84358402  M  20.29  14.34  135.10  1297.0  0.10030  0.13280  0.1980   \n",
            "4    843786  M  12.45  15.70   82.57   477.1  0.12780  0.17000  0.1578   \n",
            "\n",
            "    0.1471  ...  25.38  17.33   184.6    2019  0.1622  0.6656  0.7119  0.2654  \\\n",
            "0  0.07017  ...  24.99  23.41  158.80  1956.0  0.1238  0.1866  0.2416  0.1860   \n",
            "1  0.12790  ...  23.57  25.53  152.50  1709.0  0.1444  0.4245  0.4504  0.2430   \n",
            "2  0.10520  ...  14.91  26.50   98.87   567.7  0.2098  0.8663  0.6869  0.2575   \n",
            "3  0.10430  ...  22.54  16.67  152.20  1575.0  0.1374  0.2050  0.4000  0.1625   \n",
            "4  0.08089  ...  15.47  23.75  103.40   741.6  0.1791  0.5249  0.5355  0.1741   \n",
            "\n",
            "   0.4601   0.1189  \n",
            "0  0.2750  0.08902  \n",
            "1  0.3613  0.08758  \n",
            "2  0.6638  0.17300  \n",
            "3  0.2364  0.07678  \n",
            "4  0.3985  0.12440  \n",
            "\n",
            "[5 rows x 32 columns]\n",
            "\n",
            "Shape (rows, columns): (568, 32)\n",
            "\n",
            "Dataset info:\n",
            "<class 'pandas.core.frame.DataFrame'>\n",
            "RangeIndex: 568 entries, 0 to 567\n",
            "Data columns (total 32 columns):\n",
            " #   Column    Non-Null Count  Dtype  \n",
            "---  ------    --------------  -----  \n",
            " 0   842302    568 non-null    int64  \n",
            " 1   M         568 non-null    object \n",
            " 2   17.99     568 non-null    float64\n",
            " 3   10.38     568 non-null    float64\n",
            " 4   122.8     568 non-null    float64\n",
            " 5   1001      568 non-null    float64\n",
            " 6   0.1184    568 non-null    float64\n",
            " 7   0.2776    568 non-null    float64\n",
            " 8   0.3001    568 non-null    float64\n",
            " 9   0.1471    568 non-null    float64\n",
            " 10  0.2419    568 non-null    float64\n",
            " 11  0.07871   568 non-null    float64\n",
            " 12  1.095     568 non-null    float64\n",
            " 13  0.9053    568 non-null    float64\n",
            " 14  8.589     568 non-null    float64\n",
            " 15  153.4     568 non-null    float64\n",
            " 16  0.006399  568 non-null    float64\n",
            " 17  0.04904   568 non-null    float64\n",
            " 18  0.05373   568 non-null    float64\n",
            " 19  0.01587   568 non-null    float64\n",
            " 20  0.03003   568 non-null    float64\n",
            " 21  0.006193  568 non-null    float64\n",
            " 22  25.38     568 non-null    float64\n",
            " 23  17.33     568 non-null    float64\n",
            " 24  184.6     568 non-null    float64\n",
            " 25  2019      568 non-null    float64\n",
            " 26  0.1622    568 non-null    float64\n",
            " 27  0.6656    568 non-null    float64\n",
            " 28  0.7119    568 non-null    float64\n",
            " 29  0.2654    568 non-null    float64\n",
            " 30  0.4601    568 non-null    float64\n",
            " 31  0.1189    568 non-null    float64\n",
            "dtypes: float64(30), int64(1), object(1)\n",
            "memory usage: 142.1+ KB\n",
            "None\n",
            "\n",
            "Class distribution:\n",
            "diagnosis\n",
            "B    357\n",
            "M    211\n",
            "Name: count, dtype: int64\n"
          ]
        }
      ],
      "source": [
        "# 1.import libraries\n",
        "import pandas as pd\n",
        "\n",
        "#2.load the dataset\n",
        "data=pd.read_csv('Raw_dataset.csv')\n",
        "#3 Display the first 5 rows\n",
        "print('Sample of database:')\n",
        "print(data.head())\n",
        "\n",
        "#4 Show the shape (rows, columns)\n",
        "print('\\nShape (rows, columns):', data.shape)\n",
        "# 5. Dataset information\n",
        "print('\\nDataset info:')\n",
        "print(data.info())\n",
        "\n",
        "# 6. Distribution of the target variable (diagnosis)\n",
        "print('\\nClass distribution:')\n",
        "data.rename(columns={data.columns[1]: 'diagnosis'}, inplace=True)\n",
        "print(data['diagnosis'].value_counts())"
      ]
    }
  ]
}
